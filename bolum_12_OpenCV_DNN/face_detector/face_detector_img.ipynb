{
 "cells": [
  {
   "cell_type": "code",
   "execution_count": 20,
   "id": "d5f01ed1",
   "metadata": {},
   "outputs": [],
   "source": [
    "import cv2\n",
    "import numpy as np"
   ]
  },
  {
   "cell_type": "code",
   "execution_count": 21,
   "id": "22a2b788",
   "metadata": {},
   "outputs": [],
   "source": [
    "img = cv2.imread(\"./test.jpg\")\n",
    "\n",
    "model = cv2.dnn.readNetFromCaffe(\n",
    "    \"./data/deploy.prototxt.txt\",\n",
    "    \"./data/res10_300x300_ssd_iter_140000.caffemodel\"\n",
    ")"
   ]
  },
  {
   "cell_type": "code",
   "execution_count": 22,
   "id": "94c61105",
   "metadata": {},
   "outputs": [],
   "source": [
    "height , width, channel = img.shape\n",
    "\n",
    "blob = cv2.dnn.blobFromImage(\n",
    "    cv2.resize(img, (300, 300)),\n",
    "    1.0,\n",
    "    (300, 300),\n",
    "    (104,117,123)\n",
    ") \n"
   ]
  },
  {
   "cell_type": "code",
   "execution_count": 23,
   "id": "12a9f553",
   "metadata": {},
   "outputs": [
    {
     "data": {
      "text/plain": [
       "(1, 1, 200, 7)"
      ]
     },
     "execution_count": 23,
     "metadata": {},
     "output_type": "execute_result"
    }
   ],
   "source": [
    "model.setInput(blob)\n",
    "output = model.forward()\n",
    "output.shape"
   ]
  },
  {
   "cell_type": "code",
   "execution_count": 24,
   "id": "5322a545",
   "metadata": {},
   "outputs": [],
   "source": [
    "\n",
    " \n",
    "for detection in range(0, output.shape[2]):\n",
    "    \n",
    "    confidence = output[0,0,detection,2]\n",
    "    \n",
    "    if confidence > .5:\n",
    "        \n",
    "        loc = output[0,0,detection,3:7] * np.array([width, height, width, height])\n",
    "        (x1, y1, x2, y2) = loc.astype(\"int\")\n",
    "        \n",
    "        cv2.rectangle(img, (x1, y1), (x2, y2), (0,255,0), thickness=2)\n",
    "        \n",
    "        \n",
    "cv2.imshow(\"Prediction\", img)\n",
    "cv2.imwrite(\"result.jpg\", img)\n",
    "cv2.waitKey(0)\n",
    "cv2.destroyAllWindows()"
   ]
  },
  {
   "cell_type": "code",
   "execution_count": null,
   "id": "e0eb862d",
   "metadata": {},
   "outputs": [],
   "source": []
  }
 ],
 "metadata": {
  "kernelspec": {
   "display_name": "Python 3.9.12 ('bilgisayarli_goru')",
   "language": "python",
   "name": "python3"
  },
  "language_info": {
   "codemirror_mode": {
    "name": "ipython",
    "version": 3
   },
   "file_extension": ".py",
   "mimetype": "text/x-python",
   "name": "python",
   "nbconvert_exporter": "python",
   "pygments_lexer": "ipython3",
   "version": "3.9.12"
  },
  "vscode": {
   "interpreter": {
    "hash": "9ce8429f9b55ed1ecebe5b5ad0c90d847c7bbda2c60d13201b979103946bb33f"
   }
  }
 },
 "nbformat": 4,
 "nbformat_minor": 5
}
