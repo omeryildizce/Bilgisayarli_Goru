{
 "cells": [
  {
   "cell_type": "code",
   "execution_count": 3,
   "metadata": {},
   "outputs": [],
   "source": [
    "import cv2\n",
    "import numpy as np"
   ]
  },
  {
   "cell_type": "code",
   "execution_count": 4,
   "metadata": {},
   "outputs": [
    {
     "data": {
      "text/plain": [
       "['person',\n",
       " 'bicycle',\n",
       " 'car',\n",
       " 'motorcycle',\n",
       " 'airplane',\n",
       " 'bus',\n",
       " 'train',\n",
       " 'truck',\n",
       " 'boat',\n",
       " 'traffic light',\n",
       " 'fire hydrant',\n",
       " 'street sign',\n",
       " 'stop sign',\n",
       " 'parking meter',\n",
       " 'bench',\n",
       " 'bird',\n",
       " 'cat',\n",
       " 'dog',\n",
       " 'horse',\n",
       " 'sheep',\n",
       " 'cow',\n",
       " 'elephant',\n",
       " 'bear',\n",
       " 'zebra',\n",
       " 'giraffe',\n",
       " 'hat',\n",
       " 'backpack',\n",
       " 'umbrella',\n",
       " 'shoe',\n",
       " 'eye glasses',\n",
       " 'handbag',\n",
       " 'tie',\n",
       " 'suitcase',\n",
       " 'frisbee',\n",
       " 'skis',\n",
       " 'snowboard',\n",
       " 'sports ball',\n",
       " 'kite',\n",
       " 'baseball bat',\n",
       " 'baseball glove',\n",
       " 'skateboard',\n",
       " 'surfboard',\n",
       " 'tennis racket',\n",
       " 'bottle',\n",
       " 'plate',\n",
       " 'wine glass',\n",
       " 'cup',\n",
       " 'fork',\n",
       " 'knife',\n",
       " 'spoon',\n",
       " 'bowl',\n",
       " 'banana',\n",
       " 'apple',\n",
       " 'sandwich',\n",
       " 'orange',\n",
       " 'broccoli',\n",
       " 'carrot',\n",
       " 'hot dog',\n",
       " 'pizza',\n",
       " 'donut',\n",
       " 'cake',\n",
       " 'chair',\n",
       " 'couch',\n",
       " 'potted plant',\n",
       " 'bed',\n",
       " 'mirror',\n",
       " 'dining table',\n",
       " 'window',\n",
       " 'desk',\n",
       " 'toilet',\n",
       " 'door',\n",
       " 'tv',\n",
       " 'laptop',\n",
       " 'mouse',\n",
       " 'remote',\n",
       " 'keyboard',\n",
       " 'cell phone',\n",
       " 'microwave',\n",
       " 'oven',\n",
       " 'toaster',\n",
       " 'sink',\n",
       " 'refrigerator',\n",
       " 'blender',\n",
       " 'book',\n",
       " 'clock',\n",
       " 'vase',\n",
       " 'scissors',\n",
       " 'teddy bear',\n",
       " 'hair drier',\n",
       " 'toothbrush']"
      ]
     },
     "execution_count": 4,
     "metadata": {},
     "output_type": "execute_result"
    }
   ],
   "source": [
    "with open(\"./data/coco.txt\", \"r\") as l:\n",
    "    class_names = l.read().split(\"\\n\")\n",
    "class_names"
   ]
  },
  {
   "cell_type": "code",
   "execution_count": 5,
   "metadata": {},
   "outputs": [],
   "source": [
    "colors = np.random.uniform(0,255, size=(len(class_names)))"
   ]
  },
  {
   "cell_type": "code",
   "execution_count": 6,
   "metadata": {},
   "outputs": [],
   "source": [
    "model = cv2.dnn.readNet(\n",
    "    model = \"./data/frozen_inference_graph.pb\",\n",
    "    config = \"./data/ssd_mobilenet_v2_coco_2018_03_29.pbtxt.txt\",\n",
    "    framework = \"Tensorflow\"\n",
    ")"
   ]
  },
  {
   "cell_type": "code",
   "execution_count": 9,
   "metadata": {},
   "outputs": [],
   "source": [
    "cap = cv2.VideoCapture(\"./test.mp4\")\n",
    "\n",
    "while True:\n",
    "    ret, frame = cap.read()\n",
    "    if ret == 0:\n",
    "        break\n",
    "\n",
    "    height, width, channel = frame.shape\n",
    "    blob = cv2.dnn.blobFromImage(\n",
    "        image = frame,\n",
    "        size = (300,300),\n",
    "        mean = (104,117,123),\n",
    "        swapRB = True\n",
    "    )\n",
    "\n",
    "    model.setInput(blob)\n",
    "    output = model.forward()\n",
    "\n",
    "    for detection in output[0,0,:,:]:\n",
    "        confidence = detection[2]\n",
    "\n",
    "        if confidence > .5:\n",
    "            class_id = detection[1]\n",
    "            class_name = class_names[int(class_id) - 1]\n",
    "            color = colors[int(class_id)]\n",
    "\n",
    "            x = int(detection[3] * width)\n",
    "            y = int(detection[4] * height)\n",
    "\n",
    "            x_width = int(detection[5] * width)\n",
    "            y_height = int(detection[6] * height)\n",
    "\n",
    "            cv2.rectangle(frame, (x,y), (x_width, y_height), color, 2)\n",
    "            cv2.putText(frame, class_name, (x-10, y-20), cv2.FONT_HERSHEY_SIMPLEX, 1, color, 2)\n",
    "\n",
    "            cv2.imshow(\"Prediction\", frame)\n",
    "\n",
    "     \n",
    "    if cv2.waitKey(1) & 0xFF == ord(\"q\"):\n",
    "        break \n",
    "    \n",
    "cap.release()\n",
    "cv2.destroyAllWindows()"
   ]
  },
  {
   "cell_type": "code",
   "execution_count": null,
   "metadata": {},
   "outputs": [],
   "source": []
  }
 ],
 "metadata": {
  "kernelspec": {
   "display_name": "Python 3.9.12 ('bilgisayarli_goru')",
   "language": "python",
   "name": "python3"
  },
  "language_info": {
   "codemirror_mode": {
    "name": "ipython",
    "version": 3
   },
   "file_extension": ".py",
   "mimetype": "text/x-python",
   "name": "python",
   "nbconvert_exporter": "python",
   "pygments_lexer": "ipython3",
   "version": "3.9.12"
  },
  "orig_nbformat": 4,
  "vscode": {
   "interpreter": {
    "hash": "9ce8429f9b55ed1ecebe5b5ad0c90d847c7bbda2c60d13201b979103946bb33f"
   }
  }
 },
 "nbformat": 4,
 "nbformat_minor": 2
}
