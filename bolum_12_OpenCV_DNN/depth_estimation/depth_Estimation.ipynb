{
 "cells": [
  {
   "cell_type": "code",
   "execution_count": 4,
   "id": "1db7ebab",
   "metadata": {},
   "outputs": [],
   "source": [
    "import cv2\n",
    "import numpy as np"
   ]
  },
  {
   "cell_type": "code",
   "execution_count": 5,
   "id": "a8f18b8b",
   "metadata": {},
   "outputs": [],
   "source": [
    "model_path = \"./model/model-f6b98070.onnx\"\n",
    "model = cv2.dnn.readNet(model_path)"
   ]
  },
  {
   "cell_type": "code",
   "execution_count": 6,
   "id": "213ff37d",
   "metadata": {},
   "outputs": [],
   "source": [
    "cap = cv2.VideoCapture(0)\n",
    "c =(123.675, 116.28, 103.53)\n",
    "while True:\n",
    "    ret, frame = cap.read()\n",
    "    if ret == False:\n",
    "        break\n",
    "    \n",
    "    img = cv2.cvtColor(frame,cv2.COLOR_BGR2RGB)\n",
    "    blob = cv2.dnn.blobFromImage(\n",
    "        img,\n",
    "        1./ 255,\n",
    "        (384,384),\n",
    "        c, \n",
    "        True,\n",
    "        False\n",
    "    )\n",
    "\n",
    "    model.setInput(blob)\n",
    "    output = model.forward()\n",
    "\n",
    "    output = output[0,:,:]\n",
    "    output = cv2.resize(output, (img.shape[1], img.shape[0]))\n",
    "\n",
    "    depth = cv2.normalize(\n",
    "        output, \n",
    "        None, \n",
    "        0, \n",
    "        1, \n",
    "        norm_type=cv2.NORM_MINMAX, \n",
    "        dtype=cv2.CV_32F\n",
    "    )\n",
    "\n",
    "    cv2.imshow(\"Prediction\", depth)\n",
    "\n",
    "    if cv2.waitKey(10) & 0xFF == ord(\"q\"):\n",
    "        break\n",
    "cap.release()\n",
    "cv2.destroyAllWindows()"
   ]
  },
  {
   "cell_type": "code",
   "execution_count": 7,
   "id": "7b972a03",
   "metadata": {},
   "outputs": [],
   "source": [
    "cap = cv2.VideoCapture(\"./test.mp4\")\n",
    "c =(123.675, 116.28, 103.53)\n",
    "while True:\n",
    "    ret, frame = cap.read()\n",
    "    if ret == False:\n",
    "        break\n",
    "    \n",
    "    img = cv2.cvtColor(frame,cv2.COLOR_BGR2RGB)\n",
    "    blob = cv2.dnn.blobFromImage(\n",
    "        img,\n",
    "        1./ 255,\n",
    "        (384,384),\n",
    "        c, \n",
    "        True,\n",
    "        False\n",
    "    )\n",
    "\n",
    "    model.setInput(blob)\n",
    "    output = model.forward()\n",
    "\n",
    "    output = output[0,:,:]\n",
    "    output = cv2.resize(output, (img.shape[1], img.shape[0]))\n",
    "\n",
    "    depth = cv2.normalize(\n",
    "        output, \n",
    "        None, \n",
    "        0, \n",
    "        1, \n",
    "        norm_type=cv2.NORM_MINMAX, \n",
    "        dtype=cv2.CV_32F\n",
    "    )\n",
    "\n",
    "    cv2.imshow(\"Prediction\", depth)\n",
    "\n",
    "    if cv2.waitKey(10) & 0xFF == ord(\"q\"):\n",
    "        break\n",
    "cap.release()\n",
    "cv2.destroyAllWindows()"
   ]
  },
  {
   "cell_type": "code",
   "execution_count": null,
   "id": "48e42ef3",
   "metadata": {},
   "outputs": [],
   "source": []
  }
 ],
 "metadata": {
  "kernelspec": {
   "display_name": "Python 3.9.12 ('bilgisayarli_goru')",
   "language": "python",
   "name": "python3"
  },
  "language_info": {
   "codemirror_mode": {
    "name": "ipython",
    "version": 3
   },
   "file_extension": ".py",
   "mimetype": "text/x-python",
   "name": "python",
   "nbconvert_exporter": "python",
   "pygments_lexer": "ipython3",
   "version": "3.9.12"
  },
  "vscode": {
   "interpreter": {
    "hash": "9ce8429f9b55ed1ecebe5b5ad0c90d847c7bbda2c60d13201b979103946bb33f"
   }
  }
 },
 "nbformat": 4,
 "nbformat_minor": 5
}
