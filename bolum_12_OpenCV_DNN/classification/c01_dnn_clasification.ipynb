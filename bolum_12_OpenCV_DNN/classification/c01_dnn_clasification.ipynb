{
 "cells": [
  {
   "cell_type": "code",
   "execution_count": 1,
   "metadata": {},
   "outputs": [],
   "source": [
    "import cv2\n",
    "import numpy as np"
   ]
  },
  {
   "cell_type": "code",
   "execution_count": 2,
   "metadata": {},
   "outputs": [
    {
     "data": {
      "text/plain": [
       "(619, 1100, 3)"
      ]
     },
     "execution_count": 2,
     "metadata": {},
     "output_type": "execute_result"
    }
   ],
   "source": [
    "test_img = cv2.imread(\"./test.jpg\")\n",
    "test_img.shape"
   ]
  },
  {
   "cell_type": "code",
   "execution_count": 3,
   "metadata": {},
   "outputs": [
    {
     "name": "stdout",
     "output_type": "stream",
     "text": [
      "tench, Tinca tinca\n",
      "goldfish, Carassius auratus\n",
      "tench\n",
      "goldfish\n"
     ]
    }
   ],
   "source": [
    "with open(\"./data/labels.txt\",\"r\") as l:\n",
    "    names = l.read().split(\"\\n\")\n",
    "\n",
    "print(names[0])\n",
    "print(names[1])\n",
    "class_names = [name.split(\",\")[0] for name in names]\n",
    "print(class_names[0])\n",
    "print(class_names[1])"
   ]
  },
  {
   "cell_type": "code",
   "execution_count": 4,
   "metadata": {},
   "outputs": [],
   "source": [
    "model = cv2.dnn.readNet(\n",
    "    model=\"./data/DenseNet_121.caffemodel\", \n",
    "    config=\"./data/DenseNet_121.prototxt\", framework=\"Caffe\"\n",
    ")"
   ]
  },
  {
   "cell_type": "code",
   "execution_count": 5,
   "metadata": {},
   "outputs": [
    {
     "data": {
      "text/plain": [
       "('vizsla', '%35.32')"
      ]
     },
     "execution_count": 5,
     "metadata": {},
     "output_type": "execute_result"
    }
   ],
   "source": [
    "# blob 4 Boyutlu resimler\n",
    "blob = cv2.dnn.blobFromImage(\n",
    "    image = test_img,\n",
    "    scalefactor = 0.01,\n",
    "    size = (224,224),\n",
    "    mean = (104,117,123)\n",
    "\n",
    ")\n",
    "\n",
    "model.setInput(blob)\n",
    "outputs = model.forward()\n",
    "outputs = outputs[0]\n",
    "outputs = outputs.reshape(1000, 1)\n",
    "\n",
    "label_id = np.argmax(outputs) \n",
    "class_name = class_names[label_id]\n",
    "\n",
    "probability = np.exp(outputs) / np.sum(np.exp(outputs)) \n",
    "probability = np.max(probability) * 100\n",
    "probability = f\"%{probability:.2f}\"\n",
    "class_name, probability"
   ]
  },
  {
   "cell_type": "code",
   "execution_count": 6,
   "metadata": {},
   "outputs": [
    {
     "data": {
      "text/plain": [
       "('vizsla', '%35.32')"
      ]
     },
     "execution_count": 6,
     "metadata": {},
     "output_type": "execute_result"
    }
   ],
   "source": [
    "cv2.putText(test_img, class_name, (50,100), cv2.FONT_HERSHEY_SIMPLEX,2, (255, 255, 255),2)\n",
    "cv2.putText(test_img, probability, (50,150), cv2.FONT_HERSHEY_SIMPLEX,2, (255, 255, 255),2)\n",
    "class_name, probability"
   ]
  },
  {
   "cell_type": "code",
   "execution_count": 7,
   "metadata": {},
   "outputs": [],
   "source": [
    "cv2.imshow(\"Prediction\",test_img)\n",
    "cv2.waitKey(5000)\n",
    "cv2.destroyAllWindows()"
   ]
  },
  {
   "cell_type": "code",
   "execution_count": null,
   "metadata": {},
   "outputs": [],
   "source": []
  }
 ],
 "metadata": {
  "kernelspec": {
   "display_name": "Python 3.9.12 ('bilgisayarli_goru')",
   "language": "python",
   "name": "python3"
  },
  "language_info": {
   "codemirror_mode": {
    "name": "ipython",
    "version": 3
   },
   "file_extension": ".py",
   "mimetype": "text/x-python",
   "name": "python",
   "nbconvert_exporter": "python",
   "pygments_lexer": "ipython3",
   "version": "3.9.12"
  },
  "orig_nbformat": 4,
  "vscode": {
   "interpreter": {
    "hash": "9ce8429f9b55ed1ecebe5b5ad0c90d847c7bbda2c60d13201b979103946bb33f"
   }
  }
 },
 "nbformat": 4,
 "nbformat_minor": 2
}
