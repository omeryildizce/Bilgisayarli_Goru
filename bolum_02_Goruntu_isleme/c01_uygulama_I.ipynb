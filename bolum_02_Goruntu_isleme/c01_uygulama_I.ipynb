{
 "cells": [
  {
   "cell_type": "markdown",
   "metadata": {},
   "source": [
    "library"
   ]
  },
  {
   "cell_type": "code",
   "execution_count": 1,
   "metadata": {},
   "outputs": [],
   "source": [
    "import cv2\n",
    "import numpy as np"
   ]
  },
  {
   "cell_type": "markdown",
   "metadata": {},
   "source": [
    "* reading\n",
    "* saving\n",
    "* displaying images"
   ]
  },
  {
   "cell_type": "code",
   "execution_count": 2,
   "metadata": {},
   "outputs": [
    {
     "data": {
      "text/plain": [
       "(1080, 1920, 3)"
      ]
     },
     "execution_count": 2,
     "metadata": {},
     "output_type": "execute_result"
    }
   ],
   "source": [
    "img = cv2.imread(\"../datasets/image/clone.jpg\")\n",
    "img.shape"
   ]
  },
  {
   "cell_type": "code",
   "execution_count": 3,
   "metadata": {},
   "outputs": [],
   "source": [
    "cv2.imshow(\"clone\", img)\n",
    "cv2.waitKey(1000)\n",
    "cv2.destroyAllWindows()"
   ]
  },
  {
   "cell_type": "code",
   "execution_count": 4,
   "metadata": {},
   "outputs": [
    {
     "data": {
      "text/plain": [
       "True"
      ]
     },
     "execution_count": 4,
     "metadata": {},
     "output_type": "execute_result"
    }
   ],
   "source": [
    "cv2.imwrite(\"../datasets/save_image/clone_copy.jpg\", img)\n"
   ]
  },
  {
   "cell_type": "code",
   "execution_count": 5,
   "metadata": {},
   "outputs": [],
   "source": [
    "del img"
   ]
  },
  {
   "cell_type": "markdown",
   "metadata": {},
   "source": [
    "colorspaces"
   ]
  },
  {
   "cell_type": "code",
   "execution_count": 6,
   "metadata": {},
   "outputs": [
    {
     "data": {
      "text/plain": [
       "(1080, 1920, 3)"
      ]
     },
     "execution_count": 6,
     "metadata": {},
     "output_type": "execute_result"
    }
   ],
   "source": [
    "img = cv2.imread(\"../datasets/image/clone.jpg\")\n",
    "img.shape"
   ]
  },
  {
   "cell_type": "code",
   "execution_count": 7,
   "metadata": {},
   "outputs": [
    {
     "data": {
      "text/plain": [
       "(1080, 1920)"
      ]
     },
     "execution_count": 7,
     "metadata": {},
     "output_type": "execute_result"
    }
   ],
   "source": [
    "gray = cv2.cvtColor(img, cv2.COLOR_BGR2GRAY)\n",
    "rgb = cv2.cvtColor(img, cv2.COLOR_BGR2RGB)\n",
    "hsv = cv2.cvtColor(img, cv2.COLOR_BGR2HSV)\n",
    "\n",
    "cv2.imshow(\"orginal\", img)\n",
    "cv2.imshow(\"gray\", gray)\n",
    "cv2.imshow(\"rgb\", rgb)\n",
    "cv2.imshow(\"hsv\", hsv)\n",
    "cv2.waitKey(7000)\n",
    "cv2.destroyAllWindows()\n",
    "\n",
    "gray.shape"
   ]
  },
  {
   "cell_type": "markdown",
   "metadata": {},
   "source": [
    "* scaling\n",
    "* roi (region of interest)"
   ]
  },
  {
   "cell_type": "code",
   "execution_count": null,
   "metadata": {},
   "outputs": [],
   "source": [
    "img = cv2.imread(\"../datasets/image/clone.jpg\")\n",
    "resized_img = cv2.resize(img, (640,480))\n",
    "\n",
    "roi_face = resized_img[60:170, 275:350]\n",
    "cv2.imshow(\"scaling_img\", resized_img)\n",
    "cv2.imshow(\"roi\", roi_face)\n",
    "cv2.waitKey(5000)\n",
    "cv2.destroyAllWindows()"
   ]
  },
  {
   "cell_type": "markdown",
   "metadata": {},
   "source": [
    "drawing"
   ]
  },
  {
   "cell_type": "markdown",
   "metadata": {},
   "source": [
    "* line"
   ]
  },
  {
   "cell_type": "code",
   "execution_count": null,
   "metadata": {},
   "outputs": [],
   "source": [
    "color = (255,255,0)\n",
    "canvas = np.zeros((512,512,3), dtype= np.uint8 )\n",
    "\n",
    "cv2.line(canvas, (0,0), (250,250), color, thickness=3)\n",
    "cv2.imshow(\"Canvas Line\", canvas)\n",
    "cv2.waitKey(5000)\n",
    "cv2.destroyAllWindows()"
   ]
  },
  {
   "cell_type": "code",
   "execution_count": null,
   "metadata": {},
   "outputs": [],
   "source": [
    "\n",
    "canvas = np.zeros((512,512,3), dtype= np.uint8 )\n",
    "\n",
    "for i in range(1000):\n",
    "    color = np.random.randint(0,255, 3).tolist()\n",
    "    x1, y1 = np.random.randint(0,511, 2)\n",
    "    x2, y2 = np.random.randint(0, 511, 2)\n",
    "    cv2.line(canvas, (y1,y2), (x1,x2), color, thickness=1)\n",
    "\n",
    "cv2.imwrite(\"../datasets/save_image/canvas_I.jpg\",canvas)\n",
    "cv2.imshow(\"Canvas Line\", canvas)\n",
    "cv2.waitKey(5000)\n",
    "cv2.destroyAllWindows()"
   ]
  },
  {
   "cell_type": "code",
   "execution_count": null,
   "metadata": {},
   "outputs": [],
   "source": [
    "color = (255,255,0)\n",
    "canvas = np.zeros((512,512,3), dtype= np.uint8 )\n",
    "\n",
    "cv2.circle(canvas, (100,100), 50, color, thickness=0)\n",
    "cv2.circle(canvas, (400,400), 50, color, thickness=-1)\n",
    "cv2.imshow(\"Canvas Line\", canvas)\n",
    "cv2.waitKey(5000)\n",
    "cv2.destroyAllWindows()"
   ]
  },
  {
   "cell_type": "code",
   "execution_count": null,
   "metadata": {},
   "outputs": [],
   "source": [
    "color = (255,255,0)\n",
    "canvas = np.zeros((512,512,3), dtype= np.uint8 )\n",
    "\n",
    "cv2.circle(canvas, (100,100), 50, color, thickness=0)\n",
    "cv2.circle(canvas, (400,400), 50, color, thickness=-1)\n",
    "cv2.imshow(\"Canvas Line\", canvas)\n",
    "cv2.waitKey(5000)\n",
    "cv2.destroyAllWindows()"
   ]
  },
  {
   "cell_type": "code",
   "execution_count": null,
   "metadata": {},
   "outputs": [],
   "source": [
    "color = (255,255,0)\n",
    "canvas = np.zeros((512,512,3), dtype= np.uint8 ) + 255\n",
    "\n",
    "cv2.rectangle(canvas, (100,100), (200,300), color, thickness=0)\n",
    "cv2.rectangle(canvas, (400,400), (200,350), color, thickness=-1)\n",
    "cv2.putText(canvas, \"OpenCV\", (100,50), cv2.FONT_HERSHEY_SCRIPT_COMPLEX, 2, (0,0,255),1)\n",
    "cv2.imshow(\"Canvas Line\", canvas)\n",
    "cv2.waitKey(5000)\n",
    "cv2.destroyAllWindows()"
   ]
  },
  {
   "cell_type": "code",
   "execution_count": null,
   "metadata": {},
   "outputs": [],
   "source": []
  }
 ],
 "metadata": {
  "kernelspec": {
   "display_name": "Python 3.9.12 ('bilgisayarli_goru')",
   "language": "python",
   "name": "python3"
  },
  "language_info": {
   "codemirror_mode": {
    "name": "ipython",
    "version": 3
   },
   "file_extension": ".py",
   "mimetype": "text/x-python",
   "name": "python",
   "nbconvert_exporter": "python",
   "pygments_lexer": "ipython3",
   "version": "3.9.12"
  },
  "orig_nbformat": 4,
  "vscode": {
   "interpreter": {
    "hash": "9ce8429f9b55ed1ecebe5b5ad0c90d847c7bbda2c60d13201b979103946bb33f"
   }
  }
 },
 "nbformat": 4,
 "nbformat_minor": 2
}
