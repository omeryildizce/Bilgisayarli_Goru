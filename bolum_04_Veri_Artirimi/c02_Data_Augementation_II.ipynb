{
 "cells": [
  {
   "cell_type": "markdown",
   "metadata": {},
   "source": [
    "library"
   ]
  },
  {
   "cell_type": "code",
   "execution_count": 14,
   "metadata": {},
   "outputs": [],
   "source": [
    "from tensorflow.keras.preprocessing.image import load_img, img_to_array, ImageDataGenerator"
   ]
  },
  {
   "cell_type": "code",
   "execution_count": 18,
   "metadata": {},
   "outputs": [],
   "source": [
    "data_generator_directory = ImageDataGenerator(\n",
    "    rotation_range = 65, \n",
    "    width_shift_range = 0.2, \n",
    "    height_shift_range = 0.2,\n",
    "    zoom_range = 0.2, \n",
    "    horizontal_flip=True, \n",
    "    vertical_flip=True, \n",
    "    fill_mode=\"nearest\") #constant"
   ]
  },
  {
   "cell_type": "code",
   "execution_count": 19,
   "metadata": {},
   "outputs": [
    {
     "name": "stdout",
     "output_type": "stream",
     "text": [
      "Found 3 images belonging to 3 classes.\n",
      "Info: % 5.0\n",
      "Info: % 10.0\n",
      "Info: % 15.0\n",
      "Info: % 20.0\n",
      "Info: % 25.0\n",
      "Info: % 30.0\n",
      "Info: % 35.0\n",
      "Info: % 40.0\n",
      "Info: % 45.0\n",
      "Info: % 50.0\n",
      "Info: % 55.0\n",
      "Info: % 60.0\n",
      "Info: % 65.0\n",
      "Info: % 70.0\n",
      "Info: % 75.0\n",
      "Info: % 80.0\n",
      "Info: % 85.0\n",
      "Info: % 90.0\n",
      "Info: % 95.0\n",
      "Info: % 100.0\n",
      "Info: % 105.0\n",
      "Info: % 110.0\n",
      "Info: % 115.0\n",
      "Info: % 120.0\n",
      "Info: % 125.0\n",
      "Info: % 130.0\n",
      "Info: % 135.0\n",
      "Info: % 140.0\n",
      "Info: % 145.0\n",
      "Info: % 150.0\n"
     ]
    }
   ],
   "source": [
    "counter = 0\n",
    "for i in data_generator_directory.flow_from_directory(\"../datasets/image/star_wars\",\n",
    "    batch_size=1, \n",
    "    save_to_dir=\"../datasets/save_image/star_wars_augmentation/\", \n",
    "    save_prefix = \"star\" ,\n",
    "    save_format=\"jpeg\", \n",
    "    ):\n",
    "    \n",
    "    counter += 1\n",
    "    if counter % 10 ==0: \n",
    "        print(\"Info: %\",(counter / 2))\n",
    "    if counter == 300:\n",
    "        break\n"
   ]
  },
  {
   "cell_type": "code",
   "execution_count": null,
   "metadata": {},
   "outputs": [],
   "source": []
  }
 ],
 "metadata": {
  "kernelspec": {
   "display_name": "Python 3.9.12 ('bilgisayarli_goru')",
   "language": "python",
   "name": "python3"
  },
  "language_info": {
   "codemirror_mode": {
    "name": "ipython",
    "version": 3
   },
   "file_extension": ".py",
   "mimetype": "text/x-python",
   "name": "python",
   "nbconvert_exporter": "python",
   "pygments_lexer": "ipython3",
   "version": "3.9.12"
  },
  "orig_nbformat": 4,
  "vscode": {
   "interpreter": {
    "hash": "9ce8429f9b55ed1ecebe5b5ad0c90d847c7bbda2c60d13201b979103946bb33f"
   }
  }
 },
 "nbformat": 4,
 "nbformat_minor": 2
}
