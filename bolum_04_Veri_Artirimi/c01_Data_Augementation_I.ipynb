{
 "cells": [
  {
   "cell_type": "markdown",
   "metadata": {},
   "source": [
    "library"
   ]
  },
  {
   "cell_type": "code",
   "execution_count": 9,
   "metadata": {},
   "outputs": [],
   "source": [
    "from tensorflow.keras.preprocessing.image import load_img, img_to_array, ImageDataGenerator"
   ]
  },
  {
   "cell_type": "code",
   "execution_count": 10,
   "metadata": {},
   "outputs": [
    {
     "data": {
      "text/plain": [
       "PIL.JpegImagePlugin.JpegImageFile"
      ]
     },
     "execution_count": 10,
     "metadata": {},
     "output_type": "execute_result"
    }
   ],
   "source": [
    "img = load_img(\"../datasets/image/darth.jpg\")\n",
    "type(img)"
   ]
  },
  {
   "cell_type": "code",
   "execution_count": 11,
   "metadata": {},
   "outputs": [
    {
     "data": {
      "text/plain": [
       "<bound method Image.getchannel of <PIL.JpegImagePlugin.JpegImageFile image mode=RGB size=1920x1080 at 0x201FFEC0FA0>>"
      ]
     },
     "execution_count": 11,
     "metadata": {},
     "output_type": "execute_result"
    }
   ],
   "source": [
    "\n",
    "\"\"\"\n",
    "1. (1920, 1080, 3)\n",
    "2. PIL --> array\n",
    "3. (1, 1920, 1080, 3) yığın\n",
    "\"\"\"\n",
    "img.getchannel"
   ]
  },
  {
   "cell_type": "code",
   "execution_count": 12,
   "metadata": {},
   "outputs": [
    {
     "data": {
      "text/plain": [
       "numpy.ndarray"
      ]
     },
     "execution_count": 12,
     "metadata": {},
     "output_type": "execute_result"
    }
   ],
   "source": [
    "img_array = img_to_array(img)\n",
    "type(img_array)"
   ]
  },
  {
   "cell_type": "code",
   "execution_count": 13,
   "metadata": {},
   "outputs": [
    {
     "data": {
      "text/plain": [
       "(1080, 1920, 3)"
      ]
     },
     "execution_count": 13,
     "metadata": {},
     "output_type": "execute_result"
    }
   ],
   "source": [
    "img_array.shape"
   ]
  },
  {
   "cell_type": "code",
   "execution_count": 14,
   "metadata": {},
   "outputs": [
    {
     "data": {
      "text/plain": [
       "(1, 1080, 1920, 3)"
      ]
     },
     "execution_count": 14,
     "metadata": {},
     "output_type": "execute_result"
    }
   ],
   "source": [
    "#reshaped_img_array = img_array.reshape((1,1920,1080,3))\n",
    "reshaped_img_array = img_array.reshape((1,) + img_array.shape)\n",
    "reshaped_img_array.shape"
   ]
  },
  {
   "cell_type": "code",
   "execution_count": 15,
   "metadata": {},
   "outputs": [],
   "source": [
    "data_generator = ImageDataGenerator( rotation_range = 65, width_shift_range = 0.2, height_shift_range = 0.2, zoom_range = 0.2, horizontal_flip=True, fill_mode=\"nearest\")"
   ]
  },
  {
   "cell_type": "code",
   "execution_count": 21,
   "metadata": {},
   "outputs": [
    {
     "name": "stdout",
     "output_type": "stream",
     "text": [
      "Info: % 5.0\n",
      "Info: % 10.0\n",
      "Info: % 15.0\n",
      "Info: % 20.0\n",
      "Info: % 25.0\n",
      "Info: % 30.0\n",
      "Info: % 35.0\n",
      "Info: % 40.0\n",
      "Info: % 45.0\n",
      "Info: % 50.0\n",
      "Info: % 55.0\n",
      "Info: % 60.0\n",
      "Info: % 65.0\n",
      "Info: % 70.0\n",
      "Info: % 75.0\n",
      "Info: % 80.0\n",
      "Info: % 85.0\n",
      "Info: % 90.0\n",
      "Info: % 95.0\n",
      "Info: % 100.0\n"
     ]
    }
   ],
   "source": [
    "counter = 0\n",
    "for i in data_generator.flow(\n",
    "    reshaped_img_array, \n",
    "    batch_size=1, \n",
    "    save_to_dir=\"../datasets/save_image/data_augmentation_darth_vader/\", save_prefix=\"darth\",\n",
    "    save_format=\"jpeg\"):\n",
    "    \n",
    "    counter += 1\n",
    "    if counter % 10 ==0: \n",
    "        print(\"Info: %\",(counter / 2))\n",
    "    if counter == 200:\n",
    "        break\n"
   ]
  },
  {
   "cell_type": "code",
   "execution_count": null,
   "metadata": {},
   "outputs": [],
   "source": []
  }
 ],
 "metadata": {
  "kernelspec": {
   "display_name": "Python 3.9.12 ('bilgisayarli_goru')",
   "language": "python",
   "name": "python3"
  },
  "language_info": {
   "codemirror_mode": {
    "name": "ipython",
    "version": 3
   },
   "file_extension": ".py",
   "mimetype": "text/x-python",
   "name": "python",
   "nbconvert_exporter": "python",
   "pygments_lexer": "ipython3",
   "version": "3.9.12"
  },
  "orig_nbformat": 4,
  "vscode": {
   "interpreter": {
    "hash": "9ce8429f9b55ed1ecebe5b5ad0c90d847c7bbda2c60d13201b979103946bb33f"
   }
  }
 },
 "nbformat": 4,
 "nbformat_minor": 2
}
