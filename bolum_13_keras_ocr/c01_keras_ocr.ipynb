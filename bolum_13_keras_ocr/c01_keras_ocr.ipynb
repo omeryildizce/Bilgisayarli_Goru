{
 "cells": [
  {
   "cell_type": "code",
   "execution_count": 40,
   "metadata": {},
   "outputs": [],
   "source": [
    "import keras_ocr\n",
    "import numpy as np\n",
    "import matplotlib.pyplot as plt"
   ]
  },
  {
   "cell_type": "code",
   "execution_count": 41,
   "metadata": {},
   "outputs": [
    {
     "name": "stdout",
     "output_type": "stream",
     "text": [
      "Looking for C:\\Users\\OmerYildiz\\.keras-ocr\\craft_mlt_25k.h5\n",
      "Looking for C:\\Users\\OmerYildiz\\.keras-ocr\\crnn_kurapan.h5\n"
     ]
    }
   ],
   "source": [
    "pipeline = keras_ocr.pipeline.Pipeline()"
   ]
  },
  {
   "cell_type": "code",
   "execution_count": 42,
   "metadata": {},
   "outputs": [],
   "source": [
    "images = [keras_ocr.tools.read(img) for img in[\"test.jpg\"]]"
   ]
  },
  {
   "cell_type": "code",
   "execution_count": 43,
   "metadata": {},
   "outputs": [
    {
     "data": {
      "text/plain": [
       "[array([[[160, 176, 202],\n",
       "         [154, 170, 196],\n",
       "         [156, 170, 197],\n",
       "         ...,\n",
       "         [153, 154, 185],\n",
       "         [158, 159, 190],\n",
       "         [157, 158, 189]],\n",
       " \n",
       "        [[170, 182, 208],\n",
       "         [158, 170, 196],\n",
       "         [169, 181, 207],\n",
       "         ...,\n",
       "         [167, 162, 184],\n",
       "         [171, 166, 188],\n",
       "         [186, 181, 203]],\n",
       " \n",
       "        [[144, 155, 177],\n",
       "         [134, 145, 167],\n",
       "         [131, 139, 162],\n",
       "         ...,\n",
       "         [157, 152, 174],\n",
       "         [169, 164, 186],\n",
       "         [150, 147, 168]],\n",
       " \n",
       "        ...,\n",
       " \n",
       "        [[118, 123, 129],\n",
       "         [124, 127, 134],\n",
       "         [128, 133, 139],\n",
       "         ...,\n",
       "         [142, 145, 152],\n",
       "         [138, 138, 146],\n",
       "         [154, 154, 162]],\n",
       " \n",
       "        [[137, 142, 148],\n",
       "         [145, 148, 155],\n",
       "         [141, 146, 150],\n",
       "         ...,\n",
       "         [152, 153, 158],\n",
       "         [146, 147, 152],\n",
       "         [137, 136, 142]],\n",
       " \n",
       "        [[142, 147, 153],\n",
       "         [130, 133, 140],\n",
       "         [132, 137, 141],\n",
       "         ...,\n",
       "         [130, 131, 135],\n",
       "         [135, 136, 140],\n",
       "         [163, 162, 167]]], dtype=uint8)]"
      ]
     },
     "execution_count": 43,
     "metadata": {},
     "output_type": "execute_result"
    }
   ],
   "source": [
    "images"
   ]
  },
  {
   "cell_type": "code",
   "execution_count": 44,
   "metadata": {},
   "outputs": [
    {
     "name": "stdout",
     "output_type": "stream",
     "text": [
      "1/1 [==============================] - 1s 802ms/step\n",
      "1/1 [==============================] - 2s 2s/step\n"
     ]
    }
   ],
   "source": [
    "predictions = pipeline.recognize(images)"
   ]
  },
  {
   "cell_type": "code",
   "execution_count": 45,
   "metadata": {},
   "outputs": [
    {
     "data": {
      "text/plain": [
       "[[('ivl',\n",
       "   array([[466.,  40.],\n",
       "          [489.,  40.],\n",
       "          [489.,  57.],\n",
       "          [466.,  57.]], dtype=float32)),\n",
       "  ('d',\n",
       "   array([[504.,  52.],\n",
       "          [520.,  52.],\n",
       "          [520.,  70.],\n",
       "          [504.,  70.]], dtype=float32)),\n",
       "  ('o',\n",
       "   array([[441.,  54.],\n",
       "          [458.,  54.],\n",
       "          [458.,  69.],\n",
       "          [441.,  69.]], dtype=float32)),\n",
       "  ('808cc',\n",
       "   array([[361.99997, 259.99997],\n",
       "          [800.9999 , 259.99997],\n",
       "          [800.9999 , 370.99997],\n",
       "          [361.99997, 370.99997]], dtype=float32)),\n",
       "  ('p',\n",
       "   array([[233., 266.],\n",
       "          [347., 266.],\n",
       "          [347., 375.],\n",
       "          [233., 375.]], dtype=float32)),\n",
       "  ('ts',\n",
       "   array([[157., 270.],\n",
       "          [246., 270.],\n",
       "          [246., 345.],\n",
       "          [157., 345.]], dtype=float32)),\n",
       "  ('221',\n",
       "   array([[718., 387.],\n",
       "          [750., 387.],\n",
       "          [750., 407.],\n",
       "          [718., 407.]], dtype=float32)),\n",
       "  ('331',\n",
       "   array([[777., 387.],\n",
       "          [807., 387.],\n",
       "          [807., 406.],\n",
       "          [777., 406.]], dtype=float32)),\n",
       "  ('99',\n",
       "   array([[803., 387.],\n",
       "          [830., 387.],\n",
       "          [830., 406.],\n",
       "          [803., 406.]], dtype=float32)),\n",
       "  ('mini',\n",
       "   array([[496., 388.],\n",
       "          [543., 388.],\n",
       "          [543., 411.],\n",
       "          [496., 411.]], dtype=float32)),\n",
       "  ('moldova',\n",
       "   array([[544., 388.],\n",
       "          [624., 388.],\n",
       "          [624., 409.],\n",
       "          [544., 409.]], dtype=float32)),\n",
       "  ('173',\n",
       "   array([[663., 388.],\n",
       "          [718., 388.],\n",
       "          [718., 409.],\n",
       "          [663., 409.]], dtype=float32)),\n",
       "  ('22',\n",
       "   array([[751., 388.],\n",
       "          [777., 388.],\n",
       "          [777., 406.],\n",
       "          [751., 406.]], dtype=float32)),\n",
       "  ('bmw',\n",
       "   array([[422., 389.],\n",
       "          [477., 389.],\n",
       "          [477., 411.],\n",
       "          [422., 411.]], dtype=float32)),\n",
       "  ('8',\n",
       "   array([[477., 389.],\n",
       "          [494., 389.],\n",
       "          [494., 410.],\n",
       "          [477., 410.]], dtype=float32)),\n",
       "  ('srl',\n",
       "   array([[347., 390.],\n",
       "          [394., 390.],\n",
       "          [394., 411.],\n",
       "          [347., 411.]], dtype=float32)),\n",
       "  ('autospace',\n",
       "   array([[234.23744, 390.56082],\n",
       "          [346.37854, 394.1398 ],\n",
       "          [345.6632 , 416.55313],\n",
       "          [233.52211, 412.97415]], dtype=float32))]]"
      ]
     },
     "execution_count": 45,
     "metadata": {},
     "output_type": "execute_result"
    }
   ],
   "source": [
    "predictions"
   ]
  },
  {
   "cell_type": "code",
   "execution_count": 46,
   "metadata": {},
   "outputs": [],
   "source": [
    "import itertools"
   ]
  },
  {
   "cell_type": "code",
   "execution_count": null,
   "metadata": {},
   "outputs": [],
   "source": [
    "fig, axs = plt.subplots(nrows = len(images), figsize= (18,18))\n",
    "for ax,  prediction in zip(itertools.repeat(axs ,predictions)):\n",
    "    keras_ocr.tools.drawAnnotations(image = images, predictions=prediction, ax=ax )"
   ]
  },
  {
   "cell_type": "code",
   "execution_count": null,
   "metadata": {},
   "outputs": [],
   "source": []
  }
 ],
 "metadata": {
  "kernelspec": {
   "display_name": "Python 3.9.12 ('bilgisayarli_goru')",
   "language": "python",
   "name": "python3"
  },
  "language_info": {
   "codemirror_mode": {
    "name": "ipython",
    "version": 3
   },
   "file_extension": ".py",
   "mimetype": "text/x-python",
   "name": "python",
   "nbconvert_exporter": "python",
   "pygments_lexer": "ipython3",
   "version": "3.9.12"
  },
  "orig_nbformat": 4,
  "vscode": {
   "interpreter": {
    "hash": "9ce8429f9b55ed1ecebe5b5ad0c90d847c7bbda2c60d13201b979103946bb33f"
   }
  }
 },
 "nbformat": 4,
 "nbformat_minor": 2
}
